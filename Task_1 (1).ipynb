{
 "cells": [
  {
   "cell_type": "code",
   "execution_count": 3,
   "id": "4db936fd",
   "metadata": {},
   "outputs": [
    {
     "name": "stdout",
     "output_type": "stream",
     "text": [
      "Updated Dictionary: {'Name': 'Sanju', 'City': 'Alathur', 'Gender': 'Male'}\n",
      "Updated List: [10, 2, 4, 5, 6, 7]\n",
      "Updated Set: {2, 4, 5, 6, 11}\n"
     ]
    }
   ],
   "source": [
    "# Creating a dictionary\n",
    "my_dict = {'Name': 'Sanju', 'Age': 20, 'City': 'Palakkad'}\n",
    "\n",
    "# Adding an element to the dictionary\n",
    "my_dict['Gender'] = 'Male'\n",
    "\n",
    "# Removing an element from the dictionary\n",
    "del my_dict['Age']\n",
    "\n",
    "# Modifying an element in the dictionary\n",
    "my_dict['City'] = 'Alathur'  \n",
    "\n",
    "print(\"Updated Dictionary:\", my_dict)\n",
    "\n",
    "# Creating a List\n",
    "my_list = [1, 2, 3, 4, 5, 6]\n",
    "\n",
    "# Adding an element to the list\n",
    "my_list.append(7)\n",
    "\n",
    "# Removing an element from the list\n",
    "my_list.remove(3)\n",
    "\n",
    "# Modifying an element in the list\n",
    "my_list[0] = 10\n",
    "\n",
    "print(\"Updated List:\", my_list)\n",
    "\n",
    "# Creating a Set\n",
    "my_set = {1, 2, 3, 4, 5}\n",
    "\n",
    "# Adding an element to the set\n",
    "my_set.add(6)\n",
    "\n",
    "# Removing an element from the set\n",
    "my_set.remove(3)\n",
    "\n",
    "# Modifying an element in the set\n",
    "my_set.discard(1)  \n",
    "my_set.add(11)      \n",
    "\n",
    "print(\"Updated Set:\", my_set)"
   ]
  },
  {
   "cell_type": "code",
   "execution_count": null,
   "id": "d1ae011e",
   "metadata": {},
   "outputs": [],
   "source": []
  },
  {
   "cell_type": "code",
   "execution_count": null,
   "id": "f3a79507",
   "metadata": {},
   "outputs": [],
   "source": []
  }
 ],
 "metadata": {
  "kernelspec": {
   "display_name": "Python 3 (ipykernel)",
   "language": "python",
   "name": "python3"
  },
  "language_info": {
   "codemirror_mode": {
    "name": "ipython",
    "version": 3
   },
   "file_extension": ".py",
   "mimetype": "text/x-python",
   "name": "python",
   "nbconvert_exporter": "python",
   "pygments_lexer": "ipython3",
   "version": "3.11.5"
  }
 },
 "nbformat": 4,
 "nbformat_minor": 5
}
